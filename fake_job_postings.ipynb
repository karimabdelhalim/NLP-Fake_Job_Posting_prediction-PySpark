{
  "nbformat": 4,
  "nbformat_minor": 0,
  "metadata": {
    "colab": {
      "provenance": []
    },
    "kernelspec": {
      "name": "python3",
      "display_name": "Python 3"
    },
    "language_info": {
      "name": "python"
    }
  },
  "cells": [
    {
      "cell_type": "code",
      "source": [],
      "metadata": {
        "id": "2KbrxFDi0XWy"
      },
      "execution_count": null,
      "outputs": []
    },
    {
      "cell_type": "code",
      "execution_count": null,
      "metadata": {
        "colab": {
          "base_uri": "https://localhost:8080/"
        },
        "id": "SLLKueMdxp1E",
        "outputId": "46e41352-e90a-4086-e15c-66ee384a6d9b"
      },
      "outputs": [
        {
          "output_type": "stream",
          "name": "stdout",
          "text": [
            "Collecting pyspark\n",
            "  Downloading pyspark-3.5.1.tar.gz (317.0 MB)\n",
            "\u001b[2K     \u001b[90m━━━━━━━━━━━━━━━━━━━━━━━━━━━━━━━━━━━━━━━━\u001b[0m \u001b[32m317.0/317.0 MB\u001b[0m \u001b[31m3.2 MB/s\u001b[0m eta \u001b[36m0:00:00\u001b[0m\n",
            "\u001b[?25h  Preparing metadata (setup.py) ... \u001b[?25l\u001b[?25hdone\n",
            "Requirement already satisfied: py4j==0.10.9.7 in /usr/local/lib/python3.10/dist-packages (from pyspark) (0.10.9.7)\n",
            "Building wheels for collected packages: pyspark\n",
            "  Building wheel for pyspark (setup.py) ... \u001b[?25l\u001b[?25hdone\n",
            "  Created wheel for pyspark: filename=pyspark-3.5.1-py2.py3-none-any.whl size=317488491 sha256=4f62ab8859aac7cc62380b5c37e3ff162360b3bfbedb45e811b3ae38f27df392\n",
            "  Stored in directory: /root/.cache/pip/wheels/80/1d/60/2c256ed38dddce2fdd93be545214a63e02fbd8d74fb0b7f3a6\n",
            "Successfully built pyspark\n",
            "Installing collected packages: pyspark\n",
            "Successfully installed pyspark-3.5.1\n"
          ]
        }
      ],
      "source": [
        "!pip install pyspark"
      ]
    },
    {
      "cell_type": "markdown",
      "source": [
        "\n"
      ],
      "metadata": {
        "id": "sQDfvNIozlVJ"
      }
    },
    {
      "cell_type": "code",
      "source": [
        "\n",
        "from pyspark.ml.feature import *\n",
        "from pyspark.sql.functions import *\n",
        "from pyspark.sql.types import *\n",
        "from pyspark.ml.classification import *\n",
        "from pyspark.ml.evaluation import *\n",
        "from pyspark.ml.tuning import *\n",
        "from pyspark.ml import Pipeline"
      ],
      "metadata": {
        "id": "fgspm2yRzwMA"
      },
      "execution_count": null,
      "outputs": []
    },
    {
      "cell_type": "code",
      "source": [
        "from pyspark.sql import SparkSession\n",
        "\n",
        "# Create a SparkSession\n",
        "spark = SparkSession.builder.getOrCreate()"
      ],
      "metadata": {
        "id": "lZhnPXQ6zGZI"
      },
      "execution_count": null,
      "outputs": []
    },
    {
      "cell_type": "code",
      "source": [
        "from IPython.display import display, HTML\n",
        "display(HTML(\"<style>pre { white-space: pre !important; }</style>\"))"
      ],
      "metadata": {
        "colab": {
          "base_uri": "https://localhost:8080/",
          "height": 17
        },
        "id": "4wQ-gwYrzWC7",
        "outputId": "aa7f2ddf-6641-47e5-d5f4-ef75e06c77e4"
      },
      "execution_count": null,
      "outputs": [
        {
          "output_type": "display_data",
          "data": {
            "text/plain": [
              "<IPython.core.display.HTML object>"
            ],
            "text/html": [
              "<style>pre { white-space: pre !important; }</style>"
            ]
          },
          "metadata": {}
        }
      ]
    },
    {
      "cell_type": "markdown",
      "source": [
        "# read data"
      ],
      "metadata": {
        "id": "Cyd0GKxDzbic"
      }
    },
    {
      "cell_type": "code",
      "source": [
        "df = spark.read.option(\"header\", \"true\").csv(\"fake_job_postings.csv\")"
      ],
      "metadata": {
        "id": "bi-t8MLazaBJ"
      },
      "execution_count": null,
      "outputs": []
    },
    {
      "cell_type": "code",
      "source": [
        "df.cache()"
      ],
      "metadata": {
        "colab": {
          "base_uri": "https://localhost:8080/"
        },
        "id": "a3pfBnve1J5M",
        "outputId": "e447418f-aa12-468c-960d-d6e5f8cb7b60"
      },
      "execution_count": null,
      "outputs": [
        {
          "output_type": "execute_result",
          "data": {
            "text/plain": [
              "DataFrame[job_id: string, title: string, location: string, department: string, salary_range: string, company_profile: string, description: string, requirements: string, benefits: string, telecommuting: string, has_company_logo: string, has_questions: string, employment_type: string, required_experience: string, required_education: string, industry: string, function: string, fraudulent: string]"
            ]
          },
          "metadata": {},
          "execution_count": 10
        }
      ]
    },
    {
      "cell_type": "code",
      "source": [
        "df.printSchema()"
      ],
      "metadata": {
        "colab": {
          "base_uri": "https://localhost:8080/"
        },
        "id": "fO4fr6AF0frP",
        "outputId": "3304349a-c336-4e8f-e43b-99861253d227"
      },
      "execution_count": null,
      "outputs": [
        {
          "output_type": "stream",
          "name": "stdout",
          "text": [
            "root\n",
            " |-- job_id: string (nullable = true)\n",
            " |-- title: string (nullable = true)\n",
            " |-- location: string (nullable = true)\n",
            " |-- department: string (nullable = true)\n",
            " |-- salary_range: string (nullable = true)\n",
            " |-- company_profile: string (nullable = true)\n",
            " |-- description: string (nullable = true)\n",
            " |-- requirements: string (nullable = true)\n",
            " |-- benefits: string (nullable = true)\n",
            " |-- telecommuting: string (nullable = true)\n",
            " |-- has_company_logo: string (nullable = true)\n",
            " |-- has_questions: string (nullable = true)\n",
            " |-- employment_type: string (nullable = true)\n",
            " |-- required_experience: string (nullable = true)\n",
            " |-- required_education: string (nullable = true)\n",
            " |-- industry: string (nullable = true)\n",
            " |-- function: string (nullable = true)\n",
            " |-- fraudulent: string (nullable = true)\n",
            "\n"
          ]
        }
      ]
    },
    {
      "cell_type": "code",
      "source": [
        "df = df.drop('job_id')"
      ],
      "metadata": {
        "id": "rw-m5egf0fv8"
      },
      "execution_count": null,
      "outputs": []
    },
    {
      "cell_type": "code",
      "source": [
        "\n",
        "print((df.count(), len(df.columns)))"
      ],
      "metadata": {
        "colab": {
          "base_uri": "https://localhost:8080/"
        },
        "id": "1mGx5Q400f1l",
        "outputId": "7c14bcd6-9675-44ad-ac2c-c5e7e7747dfd"
      },
      "execution_count": null,
      "outputs": [
        {
          "output_type": "stream",
          "name": "stdout",
          "text": [
            "(17880, 17)\n"
          ]
        }
      ]
    },
    {
      "cell_type": "code",
      "source": [
        "def null_value_calc(df):\n",
        "    null_columns_counts = []\n",
        "    numRows = df.count()\n",
        "    for k in df.columns:\n",
        "        nullRows = df.where(col(k).isNull()).count()\n",
        "        if(nullRows > 0):\n",
        "            temp = k,nullRows,(nullRows/numRows)*100\n",
        "            null_columns_counts.append(temp)\n",
        "    return(null_columns_counts)\n",
        "\n",
        "null_columns_calc_list = null_value_calc(df)\n",
        "spark.createDataFrame(null_columns_calc_list, ['Column_Name', 'Null_Values_Count','Null_Value_Percent']).show()"
      ],
      "metadata": {
        "colab": {
          "base_uri": "https://localhost:8080/"
        },
        "id": "XQvLHd6j0fyC",
        "outputId": "b3ffbe2e-3d84-46c3-b439-e26e2aed26e5"
      },
      "execution_count": null,
      "outputs": [
        {
          "output_type": "stream",
          "name": "stdout",
          "text": [
            "+-------------------+-----------------+--------------------+\n",
            "|        Column_Name|Null_Values_Count|  Null_Value_Percent|\n",
            "+-------------------+-----------------+--------------------+\n",
            "|           location|              346|  1.9351230425055927|\n",
            "|         department|            11547|   64.58053691275167|\n",
            "|       salary_range|            15011|   83.95413870246085|\n",
            "|    company_profile|             3308|  18.501118568232663|\n",
            "|        description|                1|0.005592841163310962|\n",
            "|       requirements|             2573|  14.390380313199106|\n",
            "|           benefits|             6966|   38.95973154362416|\n",
            "|      telecommuting|               89| 0.49776286353467564|\n",
            "|   has_company_logo|               29|  0.1621923937360179|\n",
            "|      has_questions|               30| 0.16778523489932887|\n",
            "|    employment_type|             3292|   18.41163310961969|\n",
            "|required_experience|             6723|  37.600671140939596|\n",
            "| required_education|             7748|  43.333333333333336|\n",
            "|           industry|             4831|  27.019015659955258|\n",
            "|           function|             6317|   35.32997762863535|\n",
            "|         fraudulent|              176|  0.9843400447427294|\n",
            "+-------------------+-----------------+--------------------+\n",
            "\n"
          ]
        }
      ]
    },
    {
      "cell_type": "markdown",
      "source": [
        "#Drop any row that's not classified fraud or not (0,1)\n"
      ],
      "metadata": {
        "id": "QdhF31Jh6jvk"
      }
    },
    {
      "cell_type": "code",
      "source": [
        "df2 = df.filter(\"fraudulent IN('0','1')\")\n",
        "# Make sure it worked\n",
        "df2.groupBy(\"fraudulent\").count().orderBy(col(\"count\").desc()).show(truncate=False)"
      ],
      "metadata": {
        "colab": {
          "base_uri": "https://localhost:8080/"
        },
        "id": "N_CETaEq6uYb",
        "outputId": "1a30257c-6c53-40a8-e7b0-ee25dccd2632"
      },
      "execution_count": null,
      "outputs": [
        {
          "output_type": "stream",
          "name": "stdout",
          "text": [
            "+----------+-----+\n",
            "|fraudulent|count|\n",
            "+----------+-----+\n",
            "|0         |16080|\n",
            "|1         |886  |\n",
            "+----------+-----+\n",
            "\n"
          ]
        }
      ]
    },
    {
      "cell_type": "code",
      "source": [
        "\n",
        "df3 = df2.sampleBy(\"fraudulent\", fractions={\"0\": 0.4, \"1\": 1.0}, seed=10)\n",
        "# QA again\n",
        "df3.groupBy(\"fraudulent\").count().show(truncate=False)"
      ],
      "metadata": {
        "colab": {
          "base_uri": "https://localhost:8080/"
        },
        "id": "WfEBzgcGKPJx",
        "outputId": "fb7ddb56-a706-4292-b63b-1a448f866e0a"
      },
      "execution_count": null,
      "outputs": [
        {
          "output_type": "stream",
          "name": "stdout",
          "text": [
            "+----------+-----+\n",
            "|fraudulent|count|\n",
            "+----------+-----+\n",
            "|0         |6485 |\n",
            "|1         |886  |\n",
            "+----------+-----+\n",
            "\n"
          ]
        }
      ]
    },
    {
      "cell_type": "code",
      "source": [
        "from pyspark.sql.functions import *\n",
        "\n",
        "def null_value_calc(df):\n",
        "    null_columns_counts = []\n",
        "    numRows = df.count()\n",
        "    for k in df.columns:\n",
        "        nullRows = df.where(col(k).isNull()).count()\n",
        "        if(nullRows > 0):\n",
        "            temp = k,nullRows,(nullRows/numRows)*100\n",
        "            null_columns_counts.append(temp)\n",
        "    return(null_columns_counts)\n",
        "\n",
        "null_columns_calc_list = null_value_calc(df3)\n",
        "spark.createDataFrame(null_columns_calc_list, ['Column_Name', 'Null_Values_Count','Null_Value_Percent']).show()"
      ],
      "metadata": {
        "colab": {
          "base_uri": "https://localhost:8080/"
        },
        "id": "9yWq9oWoJd_t",
        "outputId": "ac6d3639-1d50-4aaf-8550-3819f84260ee"
      },
      "execution_count": null,
      "outputs": [
        {
          "output_type": "stream",
          "name": "stdout",
          "text": [
            "+-------------------+-----------------+------------------+\n",
            "|        Column_Name|Null_Values_Count|Null_Value_Percent|\n",
            "+-------------------+-----------------+------------------+\n",
            "|           location|              151| 2.048568715235382|\n",
            "|         department|             4868| 66.04259937593271|\n",
            "|       salary_range|             6160|  83.5707502374169|\n",
            "|    company_profile|             1620|21.978021978021978|\n",
            "|       requirements|             1134|15.384615384615385|\n",
            "|           benefits|             3032|  41.1341744675078|\n",
            "|    employment_type|             1449| 19.65811965811966|\n",
            "|required_experience|             2961| 40.17094017094017|\n",
            "| required_education|             3328| 45.14991181657848|\n",
            "|           industry|             2030| 27.54036087369421|\n",
            "|           function|             2661|36.100936100936096|\n",
            "+-------------------+-----------------+------------------+\n",
            "\n"
          ]
        }
      ]
    },
    {
      "cell_type": "code",
      "source": [],
      "metadata": {
        "id": "LN9koNgLJV06"
      },
      "execution_count": null,
      "outputs": []
    },
    {
      "cell_type": "markdown",
      "source": [
        "Fraudulent: The Target\n",
        "\n",
        "\n",
        "#Since the percentage of nulls might seem alot more to be dropped, we may ignore the unnecessary columns and only consider the important ones only\n",
        "\n",
        "\n",
        "Include only:\n",
        "\n",
        "*   Location: Frauds may be associated with some locations over others\n",
        "*   Description: Contains the actual text of the job.\n",
        "* Fraudulent: The Target\n",
        "\n",
        "\n",
        "\n",
        "\n"
      ],
      "metadata": {
        "id": "v3GKS5bz7_r7"
      }
    },
    {
      "cell_type": "code",
      "source": [
        "# remove unwanted columns\n",
        "# How about by subset by just the vars we need for now.\n",
        "filtered = df3.na.drop(subset=[\"Location\", \"description\", \"fraudulent\"])\n",
        "print((filtered.count(), len(filtered.columns)))"
      ],
      "metadata": {
        "colab": {
          "base_uri": "https://localhost:8080/"
        },
        "id": "ENmx8Etl6uaq",
        "outputId": "4f70b770-716c-488a-c50e-db6bf76c4ba5"
      },
      "execution_count": null,
      "outputs": [
        {
          "output_type": "stream",
          "name": "stdout",
          "text": [
            "(7220, 17)\n"
          ]
        }
      ]
    },
    {
      "cell_type": "code",
      "source": [
        "\n",
        "# now change the data type to be integer after cleaning the misleading data in those columns\n",
        "filter2 = filtered.withColumn(\"fraudulent\", df[\"fraudulent\"].cast(IntegerType())) \\\n",
        "        .withColumn(\"has_questions\", df[\"has_questions\"].cast(IntegerType())) \\\n",
        "        .withColumn(\"has_company_logo\",df.has_company_logo.cast(IntegerType())) \\\n",
        "        .withColumn(\"telecommuting\",df.telecommuting.cast(IntegerType()))\n",
        "\n",
        "\n",
        "\n",
        "print(filter2.printSchema())"
      ],
      "metadata": {
        "colab": {
          "base_uri": "https://localhost:8080/"
        },
        "id": "aIbr2qfh6ueS",
        "outputId": "48fb3674-b539-4cc5-c224-23c683c19278"
      },
      "execution_count": null,
      "outputs": [
        {
          "output_type": "stream",
          "name": "stdout",
          "text": [
            "root\n",
            " |-- title: string (nullable = true)\n",
            " |-- location: string (nullable = true)\n",
            " |-- department: string (nullable = true)\n",
            " |-- salary_range: string (nullable = true)\n",
            " |-- company_profile: string (nullable = true)\n",
            " |-- description: string (nullable = true)\n",
            " |-- requirements: string (nullable = true)\n",
            " |-- benefits: string (nullable = true)\n",
            " |-- telecommuting: integer (nullable = true)\n",
            " |-- has_company_logo: integer (nullable = true)\n",
            " |-- has_questions: integer (nullable = true)\n",
            " |-- employment_type: string (nullable = true)\n",
            " |-- required_experience: string (nullable = true)\n",
            " |-- required_education: string (nullable = true)\n",
            " |-- industry: string (nullable = true)\n",
            " |-- function: string (nullable = true)\n",
            " |-- fraudulent: integer (nullable = true)\n",
            "\n",
            "None\n"
          ]
        }
      ]
    },
    {
      "cell_type": "code",
      "source": [
        "\n",
        "filter2.limit(5).toPandas()"
      ],
      "metadata": {
        "colab": {
          "base_uri": "https://localhost:8080/",
          "height": 504
        },
        "id": "HczE777kG18_",
        "outputId": "03adc7c5-ef0d-47dd-8140-0d29caa4da92"
      },
      "execution_count": null,
      "outputs": [
        {
          "output_type": "execute_result",
          "data": {
            "text/plain": [
              "                                           title            location  \\\n",
              "0                               Marketing Intern    US, NY, New York   \n",
              "1                            Bill Review Manager  US, FL, Fort Worth   \n",
              "2                               Accounting Clerk            US, MD,    \n",
              "3        Customer Service Associate - Part Time      US, AZ, Phoenix   \n",
              "4  Talent Sourcer (6 months fixed-term contract)     GB, LND, London   \n",
              "\n",
              "  department salary_range                                    company_profile  \\\n",
              "0  Marketing         None  We're Food52, and we've created a groundbreaki...   \n",
              "1       None         None  SpotSource Solutions LLC is a Global Human Cap...   \n",
              "2       None         None                                               None   \n",
              "3       None         None  Novitex Enterprise Solutions, formerly Pitney ...   \n",
              "4         HR         None  Want to build a 21st century financial service...   \n",
              "\n",
              "                                         description  \\\n",
              "0  Food52, a fast-growing, James Beard Award-winn...   \n",
              "1  JOB TITLE: Itemization Review ManagerLOCATION:...   \n",
              "2  Job OverviewApex is an environmental consultin...   \n",
              "3  The Customer Service Associate will be based i...   \n",
              "4  TransferWise is the clever new way to move mon...   \n",
              "\n",
              "                                        requirements  \\\n",
              "0  Experience with content management systems a m...   \n",
              "1  QUALIFICATIONS:RN license in the State of Texa...   \n",
              "2                                               None   \n",
              "3  Minimum Requirements:Minimum of 6 months custo...   \n",
              "4  We’re looking for someone who:Proven track rec...   \n",
              "\n",
              "                                            benefits  telecommuting  \\\n",
              "0                                               None              0   \n",
              "1                              Full Benefits Offered              0   \n",
              "2                                               None              0   \n",
              "3                                               None              0   \n",
              "4  You will join one of Europe’s most hotly tippe...              0   \n",
              "\n",
              "   has_company_logo  has_questions employment_type required_experience  \\\n",
              "0                 1              0           Other          Internship   \n",
              "1                 1              1       Full-time    Mid-Senior level   \n",
              "2                 0              0            None                None   \n",
              "3                 1              0       Part-time         Entry level   \n",
              "4                 1              0            None                None   \n",
              "\n",
              "          required_education                industry              function  \\\n",
              "0                       None                    None             Marketing   \n",
              "1          Bachelor's Degree  Hospital & Health Care  Health Care Provider   \n",
              "2                       None                    None                  None   \n",
              "3  High School or equivalent      Financial Services      Customer Service   \n",
              "4                       None                    None                  None   \n",
              "\n",
              "   fraudulent  \n",
              "0           0  \n",
              "1           0  \n",
              "2           0  \n",
              "3           0  \n",
              "4           0  "
            ],
            "text/html": [
              "\n",
              "  <div id=\"df-6e369b18-c447-47c2-97d6-9e5f6c1ab77c\" class=\"colab-df-container\">\n",
              "    <div>\n",
              "<style scoped>\n",
              "    .dataframe tbody tr th:only-of-type {\n",
              "        vertical-align: middle;\n",
              "    }\n",
              "\n",
              "    .dataframe tbody tr th {\n",
              "        vertical-align: top;\n",
              "    }\n",
              "\n",
              "    .dataframe thead th {\n",
              "        text-align: right;\n",
              "    }\n",
              "</style>\n",
              "<table border=\"1\" class=\"dataframe\">\n",
              "  <thead>\n",
              "    <tr style=\"text-align: right;\">\n",
              "      <th></th>\n",
              "      <th>title</th>\n",
              "      <th>location</th>\n",
              "      <th>department</th>\n",
              "      <th>salary_range</th>\n",
              "      <th>company_profile</th>\n",
              "      <th>description</th>\n",
              "      <th>requirements</th>\n",
              "      <th>benefits</th>\n",
              "      <th>telecommuting</th>\n",
              "      <th>has_company_logo</th>\n",
              "      <th>has_questions</th>\n",
              "      <th>employment_type</th>\n",
              "      <th>required_experience</th>\n",
              "      <th>required_education</th>\n",
              "      <th>industry</th>\n",
              "      <th>function</th>\n",
              "      <th>fraudulent</th>\n",
              "    </tr>\n",
              "  </thead>\n",
              "  <tbody>\n",
              "    <tr>\n",
              "      <th>0</th>\n",
              "      <td>Marketing Intern</td>\n",
              "      <td>US, NY, New York</td>\n",
              "      <td>Marketing</td>\n",
              "      <td>None</td>\n",
              "      <td>We're Food52, and we've created a groundbreaki...</td>\n",
              "      <td>Food52, a fast-growing, James Beard Award-winn...</td>\n",
              "      <td>Experience with content management systems a m...</td>\n",
              "      <td>None</td>\n",
              "      <td>0</td>\n",
              "      <td>1</td>\n",
              "      <td>0</td>\n",
              "      <td>Other</td>\n",
              "      <td>Internship</td>\n",
              "      <td>None</td>\n",
              "      <td>None</td>\n",
              "      <td>Marketing</td>\n",
              "      <td>0</td>\n",
              "    </tr>\n",
              "    <tr>\n",
              "      <th>1</th>\n",
              "      <td>Bill Review Manager</td>\n",
              "      <td>US, FL, Fort Worth</td>\n",
              "      <td>None</td>\n",
              "      <td>None</td>\n",
              "      <td>SpotSource Solutions LLC is a Global Human Cap...</td>\n",
              "      <td>JOB TITLE: Itemization Review ManagerLOCATION:...</td>\n",
              "      <td>QUALIFICATIONS:RN license in the State of Texa...</td>\n",
              "      <td>Full Benefits Offered</td>\n",
              "      <td>0</td>\n",
              "      <td>1</td>\n",
              "      <td>1</td>\n",
              "      <td>Full-time</td>\n",
              "      <td>Mid-Senior level</td>\n",
              "      <td>Bachelor's Degree</td>\n",
              "      <td>Hospital &amp; Health Care</td>\n",
              "      <td>Health Care Provider</td>\n",
              "      <td>0</td>\n",
              "    </tr>\n",
              "    <tr>\n",
              "      <th>2</th>\n",
              "      <td>Accounting Clerk</td>\n",
              "      <td>US, MD,</td>\n",
              "      <td>None</td>\n",
              "      <td>None</td>\n",
              "      <td>None</td>\n",
              "      <td>Job OverviewApex is an environmental consultin...</td>\n",
              "      <td>None</td>\n",
              "      <td>None</td>\n",
              "      <td>0</td>\n",
              "      <td>0</td>\n",
              "      <td>0</td>\n",
              "      <td>None</td>\n",
              "      <td>None</td>\n",
              "      <td>None</td>\n",
              "      <td>None</td>\n",
              "      <td>None</td>\n",
              "      <td>0</td>\n",
              "    </tr>\n",
              "    <tr>\n",
              "      <th>3</th>\n",
              "      <td>Customer Service Associate - Part Time</td>\n",
              "      <td>US, AZ, Phoenix</td>\n",
              "      <td>None</td>\n",
              "      <td>None</td>\n",
              "      <td>Novitex Enterprise Solutions, formerly Pitney ...</td>\n",
              "      <td>The Customer Service Associate will be based i...</td>\n",
              "      <td>Minimum Requirements:Minimum of 6 months custo...</td>\n",
              "      <td>None</td>\n",
              "      <td>0</td>\n",
              "      <td>1</td>\n",
              "      <td>0</td>\n",
              "      <td>Part-time</td>\n",
              "      <td>Entry level</td>\n",
              "      <td>High School or equivalent</td>\n",
              "      <td>Financial Services</td>\n",
              "      <td>Customer Service</td>\n",
              "      <td>0</td>\n",
              "    </tr>\n",
              "    <tr>\n",
              "      <th>4</th>\n",
              "      <td>Talent Sourcer (6 months fixed-term contract)</td>\n",
              "      <td>GB, LND, London</td>\n",
              "      <td>HR</td>\n",
              "      <td>None</td>\n",
              "      <td>Want to build a 21st century financial service...</td>\n",
              "      <td>TransferWise is the clever new way to move mon...</td>\n",
              "      <td>We’re looking for someone who:Proven track rec...</td>\n",
              "      <td>You will join one of Europe’s most hotly tippe...</td>\n",
              "      <td>0</td>\n",
              "      <td>1</td>\n",
              "      <td>0</td>\n",
              "      <td>None</td>\n",
              "      <td>None</td>\n",
              "      <td>None</td>\n",
              "      <td>None</td>\n",
              "      <td>None</td>\n",
              "      <td>0</td>\n",
              "    </tr>\n",
              "  </tbody>\n",
              "</table>\n",
              "</div>\n",
              "    <div class=\"colab-df-buttons\">\n",
              "\n",
              "  <div class=\"colab-df-container\">\n",
              "    <button class=\"colab-df-convert\" onclick=\"convertToInteractive('df-6e369b18-c447-47c2-97d6-9e5f6c1ab77c')\"\n",
              "            title=\"Convert this dataframe to an interactive table.\"\n",
              "            style=\"display:none;\">\n",
              "\n",
              "  <svg xmlns=\"http://www.w3.org/2000/svg\" height=\"24px\" viewBox=\"0 -960 960 960\">\n",
              "    <path d=\"M120-120v-720h720v720H120Zm60-500h600v-160H180v160Zm220 220h160v-160H400v160Zm0 220h160v-160H400v160ZM180-400h160v-160H180v160Zm440 0h160v-160H620v160ZM180-180h160v-160H180v160Zm440 0h160v-160H620v160Z\"/>\n",
              "  </svg>\n",
              "    </button>\n",
              "\n",
              "  <style>\n",
              "    .colab-df-container {\n",
              "      display:flex;\n",
              "      gap: 12px;\n",
              "    }\n",
              "\n",
              "    .colab-df-convert {\n",
              "      background-color: #E8F0FE;\n",
              "      border: none;\n",
              "      border-radius: 50%;\n",
              "      cursor: pointer;\n",
              "      display: none;\n",
              "      fill: #1967D2;\n",
              "      height: 32px;\n",
              "      padding: 0 0 0 0;\n",
              "      width: 32px;\n",
              "    }\n",
              "\n",
              "    .colab-df-convert:hover {\n",
              "      background-color: #E2EBFA;\n",
              "      box-shadow: 0px 1px 2px rgba(60, 64, 67, 0.3), 0px 1px 3px 1px rgba(60, 64, 67, 0.15);\n",
              "      fill: #174EA6;\n",
              "    }\n",
              "\n",
              "    .colab-df-buttons div {\n",
              "      margin-bottom: 4px;\n",
              "    }\n",
              "\n",
              "    [theme=dark] .colab-df-convert {\n",
              "      background-color: #3B4455;\n",
              "      fill: #D2E3FC;\n",
              "    }\n",
              "\n",
              "    [theme=dark] .colab-df-convert:hover {\n",
              "      background-color: #434B5C;\n",
              "      box-shadow: 0px 1px 3px 1px rgba(0, 0, 0, 0.15);\n",
              "      filter: drop-shadow(0px 1px 2px rgba(0, 0, 0, 0.3));\n",
              "      fill: #FFFFFF;\n",
              "    }\n",
              "  </style>\n",
              "\n",
              "    <script>\n",
              "      const buttonEl =\n",
              "        document.querySelector('#df-6e369b18-c447-47c2-97d6-9e5f6c1ab77c button.colab-df-convert');\n",
              "      buttonEl.style.display =\n",
              "        google.colab.kernel.accessAllowed ? 'block' : 'none';\n",
              "\n",
              "      async function convertToInteractive(key) {\n",
              "        const element = document.querySelector('#df-6e369b18-c447-47c2-97d6-9e5f6c1ab77c');\n",
              "        const dataTable =\n",
              "          await google.colab.kernel.invokeFunction('convertToInteractive',\n",
              "                                                    [key], {});\n",
              "        if (!dataTable) return;\n",
              "\n",
              "        const docLinkHtml = 'Like what you see? Visit the ' +\n",
              "          '<a target=\"_blank\" href=https://colab.research.google.com/notebooks/data_table.ipynb>data table notebook</a>'\n",
              "          + ' to learn more about interactive tables.';\n",
              "        element.innerHTML = '';\n",
              "        dataTable['output_type'] = 'display_data';\n",
              "        await google.colab.output.renderOutput(dataTable, element);\n",
              "        const docLink = document.createElement('div');\n",
              "        docLink.innerHTML = docLinkHtml;\n",
              "        element.appendChild(docLink);\n",
              "      }\n",
              "    </script>\n",
              "  </div>\n",
              "\n",
              "\n",
              "<div id=\"df-df18dfe5-1e6c-4a5b-b3ea-980b7c37d4a8\">\n",
              "  <button class=\"colab-df-quickchart\" onclick=\"quickchart('df-df18dfe5-1e6c-4a5b-b3ea-980b7c37d4a8')\"\n",
              "            title=\"Suggest charts\"\n",
              "            style=\"display:none;\">\n",
              "\n",
              "<svg xmlns=\"http://www.w3.org/2000/svg\" height=\"24px\"viewBox=\"0 0 24 24\"\n",
              "     width=\"24px\">\n",
              "    <g>\n",
              "        <path d=\"M19 3H5c-1.1 0-2 .9-2 2v14c0 1.1.9 2 2 2h14c1.1 0 2-.9 2-2V5c0-1.1-.9-2-2-2zM9 17H7v-7h2v7zm4 0h-2V7h2v10zm4 0h-2v-4h2v4z\"/>\n",
              "    </g>\n",
              "</svg>\n",
              "  </button>\n",
              "\n",
              "<style>\n",
              "  .colab-df-quickchart {\n",
              "      --bg-color: #E8F0FE;\n",
              "      --fill-color: #1967D2;\n",
              "      --hover-bg-color: #E2EBFA;\n",
              "      --hover-fill-color: #174EA6;\n",
              "      --disabled-fill-color: #AAA;\n",
              "      --disabled-bg-color: #DDD;\n",
              "  }\n",
              "\n",
              "  [theme=dark] .colab-df-quickchart {\n",
              "      --bg-color: #3B4455;\n",
              "      --fill-color: #D2E3FC;\n",
              "      --hover-bg-color: #434B5C;\n",
              "      --hover-fill-color: #FFFFFF;\n",
              "      --disabled-bg-color: #3B4455;\n",
              "      --disabled-fill-color: #666;\n",
              "  }\n",
              "\n",
              "  .colab-df-quickchart {\n",
              "    background-color: var(--bg-color);\n",
              "    border: none;\n",
              "    border-radius: 50%;\n",
              "    cursor: pointer;\n",
              "    display: none;\n",
              "    fill: var(--fill-color);\n",
              "    height: 32px;\n",
              "    padding: 0;\n",
              "    width: 32px;\n",
              "  }\n",
              "\n",
              "  .colab-df-quickchart:hover {\n",
              "    background-color: var(--hover-bg-color);\n",
              "    box-shadow: 0 1px 2px rgba(60, 64, 67, 0.3), 0 1px 3px 1px rgba(60, 64, 67, 0.15);\n",
              "    fill: var(--button-hover-fill-color);\n",
              "  }\n",
              "\n",
              "  .colab-df-quickchart-complete:disabled,\n",
              "  .colab-df-quickchart-complete:disabled:hover {\n",
              "    background-color: var(--disabled-bg-color);\n",
              "    fill: var(--disabled-fill-color);\n",
              "    box-shadow: none;\n",
              "  }\n",
              "\n",
              "  .colab-df-spinner {\n",
              "    border: 2px solid var(--fill-color);\n",
              "    border-color: transparent;\n",
              "    border-bottom-color: var(--fill-color);\n",
              "    animation:\n",
              "      spin 1s steps(1) infinite;\n",
              "  }\n",
              "\n",
              "  @keyframes spin {\n",
              "    0% {\n",
              "      border-color: transparent;\n",
              "      border-bottom-color: var(--fill-color);\n",
              "      border-left-color: var(--fill-color);\n",
              "    }\n",
              "    20% {\n",
              "      border-color: transparent;\n",
              "      border-left-color: var(--fill-color);\n",
              "      border-top-color: var(--fill-color);\n",
              "    }\n",
              "    30% {\n",
              "      border-color: transparent;\n",
              "      border-left-color: var(--fill-color);\n",
              "      border-top-color: var(--fill-color);\n",
              "      border-right-color: var(--fill-color);\n",
              "    }\n",
              "    40% {\n",
              "      border-color: transparent;\n",
              "      border-right-color: var(--fill-color);\n",
              "      border-top-color: var(--fill-color);\n",
              "    }\n",
              "    60% {\n",
              "      border-color: transparent;\n",
              "      border-right-color: var(--fill-color);\n",
              "    }\n",
              "    80% {\n",
              "      border-color: transparent;\n",
              "      border-right-color: var(--fill-color);\n",
              "      border-bottom-color: var(--fill-color);\n",
              "    }\n",
              "    90% {\n",
              "      border-color: transparent;\n",
              "      border-bottom-color: var(--fill-color);\n",
              "    }\n",
              "  }\n",
              "</style>\n",
              "\n",
              "  <script>\n",
              "    async function quickchart(key) {\n",
              "      const quickchartButtonEl =\n",
              "        document.querySelector('#' + key + ' button');\n",
              "      quickchartButtonEl.disabled = true;  // To prevent multiple clicks.\n",
              "      quickchartButtonEl.classList.add('colab-df-spinner');\n",
              "      try {\n",
              "        const charts = await google.colab.kernel.invokeFunction(\n",
              "            'suggestCharts', [key], {});\n",
              "      } catch (error) {\n",
              "        console.error('Error during call to suggestCharts:', error);\n",
              "      }\n",
              "      quickchartButtonEl.classList.remove('colab-df-spinner');\n",
              "      quickchartButtonEl.classList.add('colab-df-quickchart-complete');\n",
              "    }\n",
              "    (() => {\n",
              "      let quickchartButtonEl =\n",
              "        document.querySelector('#df-df18dfe5-1e6c-4a5b-b3ea-980b7c37d4a8 button');\n",
              "      quickchartButtonEl.style.display =\n",
              "        google.colab.kernel.accessAllowed ? 'block' : 'none';\n",
              "    })();\n",
              "  </script>\n",
              "</div>\n",
              "\n",
              "    </div>\n",
              "  </div>\n"
            ],
            "application/vnd.google.colaboratory.intrinsic+json": {
              "type": "dataframe",
              "repr_error": "Out of range float values are not JSON compliant: nan"
            }
          },
          "metadata": {},
          "execution_count": 20
        }
      ]
    },
    {
      "cell_type": "code",
      "source": [],
      "metadata": {
        "id": "W5yGhoUf-oVb"
      },
      "execution_count": null,
      "outputs": []
    },
    {
      "cell_type": "markdown",
      "source": [
        "#Check class balance\n",
        "* The data is obviously imbalanced and that may be treated in different ways like:\n",
        "\n",
        "1. Change the accuracy metric to be able to monitor both false and true positives and negatives\n",
        "2. K-Fold Cross Validation\n",
        "3.  Sampling the data (delete some of the data labeled 0 to maintain balance)"
      ],
      "metadata": {
        "id": "cf1TC_CZ_SSa"
      }
    },
    {
      "cell_type": "code",
      "source": [
        "filter2.groupBy(\"fraudulent\").count().orderBy(col(\"count\").desc()).show(truncate=False)\n"
      ],
      "metadata": {
        "colab": {
          "base_uri": "https://localhost:8080/"
        },
        "id": "NmiVVX4l_84m",
        "outputId": "48476848-71a2-4c01-ecb8-7c12f5f7c5b3"
      },
      "execution_count": null,
      "outputs": [
        {
          "output_type": "stream",
          "name": "stdout",
          "text": [
            "+----------+-----+\n",
            "|fraudulent|count|\n",
            "+----------+-----+\n",
            "|0         |6354 |\n",
            "|1         |866  |\n",
            "+----------+-----+\n",
            "\n"
          ]
        }
      ]
    },
    {
      "cell_type": "code",
      "source": [
        "tot = filter2.count()\n",
        "filtered.groupBy(\"fraudulent\").count().withColumnRenamed('count', 'cnt_per_group').withColumn('perc_of_count_total', (col('cnt_per_group') / tot) * 100 ).show(100)"
      ],
      "metadata": {
        "colab": {
          "base_uri": "https://localhost:8080/"
        },
        "id": "45Any4HsAYvT",
        "outputId": "1c2d8430-9327-43be-9c90-9400aca4bf31"
      },
      "execution_count": null,
      "outputs": [
        {
          "output_type": "stream",
          "name": "stdout",
          "text": [
            "+----------+-------------+-------------------+\n",
            "|fraudulent|cnt_per_group|perc_of_count_total|\n",
            "+----------+-------------+-------------------+\n",
            "|         0|         6354|  88.00554016620498|\n",
            "|         1|          866| 11.994459833795014|\n",
            "+----------+-------------+-------------------+\n",
            "\n"
          ]
        }
      ]
    },
    {
      "cell_type": "markdown",
      "source": [
        "#Preprocessing the data, both labels and text"
      ],
      "metadata": {
        "id": "4yuzPUsZOB3k"
      }
    },
    {
      "cell_type": "code",
      "source": [
        "selected_df = filter2.select(\"description\", \"fraudulent\")"
      ],
      "metadata": {
        "id": "dkhphRQVU9Xp"
      },
      "execution_count": null,
      "outputs": []
    },
    {
      "cell_type": "code",
      "source": [
        "selected_df.printSchema()"
      ],
      "metadata": {
        "colab": {
          "base_uri": "https://localhost:8080/"
        },
        "id": "bCp1szq0VIEZ",
        "outputId": "61b22085-2654-46a4-f607-596cf33e3b45"
      },
      "execution_count": null,
      "outputs": [
        {
          "output_type": "stream",
          "name": "stdout",
          "text": [
            "root\n",
            " |-- description: string (nullable = true)\n",
            " |-- fraudulent: integer (nullable = true)\n",
            "\n"
          ]
        }
      ]
    },
    {
      "cell_type": "markdown",
      "source": [
        "#Apply the text hashing techniques:\n",
        "\n",
        "\n",
        "*   HashingTF\n",
        "*   Word2Vec\n",
        "*   TF-IDF\n",
        "\n"
      ],
      "metadata": {
        "id": "45Qg-LmUPfII"
      }
    },
    {
      "cell_type": "code",
      "source": [
        "from pyspark.ml.feature import Tokenizer, StopWordsRemover, CountVectorizer, IDF\n",
        "from pyspark.ml.classification import LogisticRegression\n",
        "from pyspark.ml.evaluation import BinaryClassificationEvaluator\n",
        "from pyspark.ml.classification import NaiveBayes\n"
      ],
      "metadata": {
        "id": "74-HeyhiVOCY"
      },
      "execution_count": null,
      "outputs": []
    },
    {
      "cell_type": "code",
      "source": [
        "selected_df.cache()"
      ],
      "metadata": {
        "colab": {
          "base_uri": "https://localhost:8080/"
        },
        "id": "Wz4ZirkfVOEy",
        "outputId": "9f70d3b7-175c-46e7-8341-73820c868043"
      },
      "execution_count": null,
      "outputs": [
        {
          "output_type": "execute_result",
          "data": {
            "text/plain": [
              "DataFrame[description: string, fraudulent: int]"
            ]
          },
          "metadata": {},
          "execution_count": 26
        }
      ]
    },
    {
      "cell_type": "code",
      "source": [
        "# Define tokenizer\n",
        "tokenizer = Tokenizer(inputCol=\"description\", outputCol=\"words\")"
      ],
      "metadata": {
        "id": "LiIoCMlLVOHW"
      },
      "execution_count": null,
      "outputs": []
    },
    {
      "cell_type": "code",
      "source": [
        "# Define stop words remover\n",
        "stop_words_remover = StopWordsRemover(inputCol=\"words\", outputCol=\"filtered_words\")\n"
      ],
      "metadata": {
        "id": "hftW21PlVOJ5"
      },
      "execution_count": null,
      "outputs": []
    },
    {
      "cell_type": "code",
      "source": [
        "count_vectorizer = CountVectorizer(inputCol=\"filtered_words\", outputCol=\"raw_features\")\n"
      ],
      "metadata": {
        "id": "MTJDkwlkVOL5"
      },
      "execution_count": null,
      "outputs": []
    },
    {
      "cell_type": "code",
      "source": [
        "idf = IDF(inputCol=\"raw_features\", outputCol=\"tf_idf_features\")"
      ],
      "metadata": {
        "id": "50nKZcAuVOPW"
      },
      "execution_count": null,
      "outputs": []
    },
    {
      "cell_type": "code",
      "source": [
        "# Define Naive Bayes classifier\n",
        "nb = NaiveBayes(featuresCol=\"tf_idf_features\", labelCol=\"fraudulent\")"
      ],
      "metadata": {
        "id": "LtTU9BqNXTTC"
      },
      "execution_count": null,
      "outputs": []
    },
    {
      "cell_type": "code",
      "source": [
        "# Split data into training and testing sets\n",
        "train_data, test_data = selected_df.randomSplit([0.8, 0.2], seed=42)"
      ],
      "metadata": {
        "id": "10fj7zLGXTVT"
      },
      "execution_count": null,
      "outputs": []
    },
    {
      "cell_type": "code",
      "source": [
        "from pyspark.ml import Pipeline\n",
        "\n",
        "pipeline = Pipeline(stages=[tokenizer, stop_words_remover, count_vectorizer, idf, nb])"
      ],
      "metadata": {
        "id": "AFpG9MPFXTYA"
      },
      "execution_count": null,
      "outputs": []
    },
    {
      "cell_type": "code",
      "source": [
        "# Train the model\n",
        "model = pipeline.fit(train_data)"
      ],
      "metadata": {
        "id": "rfE4kNb0XTZz"
      },
      "execution_count": null,
      "outputs": []
    },
    {
      "cell_type": "markdown",
      "source": [],
      "metadata": {
        "id": "SH8hWx6wZM5e"
      }
    },
    {
      "cell_type": "code",
      "source": [
        "predictions = model.transform(test_data)"
      ],
      "metadata": {
        "id": "3M55v3jvXTdN"
      },
      "execution_count": null,
      "outputs": []
    },
    {
      "cell_type": "code",
      "source": [
        "evaluator = MulticlassClassificationEvaluator(predictionCol=\"prediction\", labelCol=\"fraudulent\", metricName=\"f1\")\n",
        "f1_score = evaluator.evaluate(predictions)\n",
        "print(\"F1 Score:\", f1_score)"
      ],
      "metadata": {
        "colab": {
          "base_uri": "https://localhost:8080/"
        },
        "id": "T2u7T476YvtT",
        "outputId": "3075e0c0-bc99-469a-ccaa-3a26e1bbfc0e"
      },
      "execution_count": null,
      "outputs": [
        {
          "output_type": "stream",
          "name": "stdout",
          "text": [
            "F1 Score: 0.9461963358183296\n"
          ]
        }
      ]
    },
    {
      "cell_type": "code",
      "source": [
        "# using DL"
      ],
      "metadata": {
        "id": "NFL8lnXlYvvy"
      },
      "execution_count": null,
      "outputs": []
    },
    {
      "cell_type": "markdown",
      "source": [
        "# using DL"
      ],
      "metadata": {
        "id": "oXslNadZ-swO"
      }
    },
    {
      "cell_type": "code",
      "source": [
        "import torch\n",
        "from torch.utils.data import DataLoader, TensorDataset\n",
        "from transformers import BertTokenizer, BertForSequenceClassification\n",
        "from transformers import DistilBertTokenizer, DistilBertForSequenceClassification\n",
        "\n",
        "from sklearn.model_selection import train_test_split\n",
        "from sklearn.metrics import accuracy_score\n",
        "import pandas as pd\n",
        "import torch\n",
        "import torch.nn as nn\n",
        "from torch.utils.data import DataLoader, TensorDataset\n",
        "from sklearn.model_selection import train_test_split\n",
        "from sklearn.metrics import accuracy_score\n",
        "from sklearn.feature_extraction.text import CountVectorizer\n",
        "import pandas as pd\n",
        "import re"
      ],
      "metadata": {
        "id": "VbApZXdgYvyg"
      },
      "execution_count": null,
      "outputs": []
    },
    {
      "cell_type": "code",
      "source": [
        "df = pd.read_csv('fake_job_postings.csv')"
      ],
      "metadata": {
        "id": "6vunlt7D3nPJ"
      },
      "execution_count": null,
      "outputs": []
    },
    {
      "cell_type": "code",
      "source": [
        "random_sample = df.sample(n=1000)"
      ],
      "metadata": {
        "id": "NxL0D7813zRq"
      },
      "execution_count": null,
      "outputs": []
    },
    {
      "cell_type": "code",
      "source": [],
      "metadata": {
        "id": "KiAoW7tk4T2z"
      },
      "execution_count": null,
      "outputs": []
    },
    {
      "cell_type": "code",
      "source": [],
      "metadata": {
        "id": "HbvWo4bE4UP3"
      },
      "execution_count": null,
      "outputs": []
    },
    {
      "cell_type": "code",
      "source": [
        "df2 = random_sample[['description', 'fraudulent']]"
      ],
      "metadata": {
        "id": "hImNSCET3zUV"
      },
      "execution_count": null,
      "outputs": []
    },
    {
      "cell_type": "code",
      "source": [
        "df2.info()"
      ],
      "metadata": {
        "colab": {
          "base_uri": "https://localhost:8080/"
        },
        "id": "UrDcBM9q3zXu",
        "outputId": "3cf02db8-c0c0-476e-c8f6-d064c513a0c5"
      },
      "execution_count": null,
      "outputs": [
        {
          "output_type": "stream",
          "name": "stdout",
          "text": [
            "<class 'pandas.core.frame.DataFrame'>\n",
            "Index: 1000 entries, 12287 to 5271\n",
            "Data columns (total 2 columns):\n",
            " #   Column       Non-Null Count  Dtype \n",
            "---  ------       --------------  ----- \n",
            " 0   description  1000 non-null   object\n",
            " 1   fraudulent   1000 non-null   int64 \n",
            "dtypes: int64(1), object(1)\n",
            "memory usage: 23.4+ KB\n"
          ]
        }
      ]
    },
    {
      "cell_type": "code",
      "source": [
        "import re\n",
        "def process_text(text):\n",
        "    news = re.sub(r'[^a-zA-Z\\s]','',text)\n",
        "    lo_news = news.lower()\n",
        "    return lo_news"
      ],
      "metadata": {
        "id": "Xi0VC_mw02si"
      },
      "execution_count": null,
      "outputs": []
    },
    {
      "cell_type": "code",
      "source": [
        "df2['description'] = df2['description'].apply(process_text)"
      ],
      "metadata": {
        "colab": {
          "base_uri": "https://localhost:8080/"
        },
        "id": "Ch0YoP2fw686",
        "outputId": "e02928eb-46b0-4ebc-de72-624466e037df"
      },
      "execution_count": null,
      "outputs": [
        {
          "output_type": "stream",
          "name": "stderr",
          "text": [
            "<ipython-input-31-37b2844236d0>:1: SettingWithCopyWarning: \n",
            "A value is trying to be set on a copy of a slice from a DataFrame.\n",
            "Try using .loc[row_indexer,col_indexer] = value instead\n",
            "\n",
            "See the caveats in the documentation: https://pandas.pydata.org/pandas-docs/stable/user_guide/indexing.html#returning-a-view-versus-a-copy\n",
            "  df2['description'] = df2['description'].apply(process_text)\n"
          ]
        }
      ]
    },
    {
      "cell_type": "code",
      "source": [
        "import tensorflow as tf\n",
        "from tensorflow.keras.preprocessing.text import Tokenizer\n",
        "from tensorflow.keras.utils import pad_sequences\n",
        "from tensorflow.keras.layers import LSTM,GRU,Bidirectional,Dense,Embedding\n",
        "from tensorflow.keras import Sequential"
      ],
      "metadata": {
        "id": "0mmoxB5yYv1p"
      },
      "execution_count": null,
      "outputs": []
    },
    {
      "cell_type": "code",
      "source": [
        "# passing object\n",
        "tk = Tokenizer()"
      ],
      "metadata": {
        "id": "mGnapzyrI1jx"
      },
      "execution_count": null,
      "outputs": []
    },
    {
      "cell_type": "code",
      "source": [
        "#fit the text into the tokenizer\n",
        "tk.fit_on_texts(df2['description'])"
      ],
      "metadata": {
        "id": "7OrZydt1OoES"
      },
      "execution_count": null,
      "outputs": []
    },
    {
      "cell_type": "code",
      "source": [
        "#integer encoding\n",
        "seq = tk.texts_to_sequences(df2['description'])"
      ],
      "metadata": {
        "id": "Y03EAcOQOqlS"
      },
      "execution_count": null,
      "outputs": []
    },
    {
      "cell_type": "code",
      "source": [
        "\n",
        "#padded the vector to equalize the dimenstion\n",
        "vec = pad_sequences(seq,padding='post',maxlen=50)"
      ],
      "metadata": {
        "id": "zTpFC7EeO59p"
      },
      "execution_count": null,
      "outputs": []
    },
    {
      "cell_type": "code",
      "source": [
        "# split features and target variable\n",
        "import numpy as np\n",
        "x = np.array(vec)\n",
        "y = np.array(df2['fraudulent'])"
      ],
      "metadata": {
        "id": "yXfRgRHzPJbp"
      },
      "execution_count": null,
      "outputs": []
    },
    {
      "cell_type": "code",
      "source": [
        "from sklearn.model_selection import train_test_split\n",
        "x_train,x_test,y_train,y_test = train_test_split(x,y,test_size=0.15,random_state=32)"
      ],
      "metadata": {
        "id": "PmhKtQ9OP6_9"
      },
      "execution_count": null,
      "outputs": []
    },
    {
      "cell_type": "code",
      "source": [
        "# Building model using sequential API\n",
        "\n",
        "model = Sequential()\n",
        "model.add(Embedding(input_dim=len(tk.word_index)+1,output_dim=100,input_length=50))\n",
        "model.add(Bidirectional(LSTM(units=100)))\n",
        "model.add(Dense(1,activation='sigmoid'))"
      ],
      "metadata": {
        "id": "JBgzEWjK15xh"
      },
      "execution_count": null,
      "outputs": []
    },
    {
      "cell_type": "code",
      "source": [
        "model.compile(optimizer='adam',loss='binary_crossentropy',metrics=['accuracy'])"
      ],
      "metadata": {
        "id": "5l2ILFFUyS0L"
      },
      "execution_count": null,
      "outputs": []
    },
    {
      "cell_type": "code",
      "source": [
        "history = model.fit(x_train,y_train,epochs=2,batch_size=32,\n",
        "                    validation_data=(x_test,y_test))"
      ],
      "metadata": {
        "colab": {
          "base_uri": "https://localhost:8080/"
        },
        "id": "e3jy6kEFyaZD",
        "outputId": "86b0b1e0-5d9b-45bb-c193-78268f9cf60c"
      },
      "execution_count": null,
      "outputs": [
        {
          "output_type": "stream",
          "name": "stdout",
          "text": [
            "Epoch 1/2\n",
            "27/27 [==============================] - 12s 301ms/step - loss: 0.3717 - accuracy: 0.9259 - val_loss: 0.2426 - val_accuracy: 0.9333\n",
            "Epoch 2/2\n",
            "27/27 [==============================] - 5s 201ms/step - loss: 0.2160 - accuracy: 0.9447 - val_loss: 0.2351 - val_accuracy: 0.9333\n"
          ]
        }
      ]
    },
    {
      "cell_type": "code",
      "source": [
        "model.evaluate(x_test,y_test)"
      ],
      "metadata": {
        "colab": {
          "base_uri": "https://localhost:8080/"
        },
        "id": "vCVxctr8yach",
        "outputId": "bc8be1d6-9722-464b-e792-9aa6602f7a47"
      },
      "execution_count": null,
      "outputs": [
        {
          "output_type": "stream",
          "name": "stdout",
          "text": [
            "5/5 [==============================] - 0s 19ms/step - loss: 0.2351 - accuracy: 0.9333\n"
          ]
        },
        {
          "output_type": "execute_result",
          "data": {
            "text/plain": [
              "[0.23514424264431, 0.9333333373069763]"
            ]
          },
          "metadata": {},
          "execution_count": 47
        }
      ]
    },
    {
      "cell_type": "code",
      "source": [],
      "metadata": {
        "colab": {
          "base_uri": "https://localhost:8080/"
        },
        "id": "jFbP6wX22rjt",
        "outputId": "4748682e-f7f1-4b45-9b4f-99a80a2bd4f8"
      },
      "execution_count": null,
      "outputs": [
        {
          "output_type": "stream",
          "name": "stdout",
          "text": [
            "5/5 [==============================] - 0s 35ms/step\n"
          ]
        }
      ]
    },
    {
      "cell_type": "code",
      "source": [],
      "metadata": {
        "id": "tz2-uQrD2rms"
      },
      "execution_count": null,
      "outputs": []
    },
    {
      "cell_type": "code",
      "source": [],
      "metadata": {
        "id": "rVhlOW7N2rqL"
      },
      "execution_count": null,
      "outputs": []
    },
    {
      "cell_type": "code",
      "source": [],
      "metadata": {
        "id": "Nw-xYorZyS3r"
      },
      "execution_count": null,
      "outputs": []
    },
    {
      "cell_type": "code",
      "source": [],
      "metadata": {
        "id": "QdNpEcdZ2Az1"
      },
      "execution_count": null,
      "outputs": []
    },
    {
      "cell_type": "markdown",
      "source": [],
      "metadata": {
        "id": "ffYC1JLf1_Lw"
      }
    },
    {
      "cell_type": "code",
      "source": [
        "\n",
        "\n",
        "\n"
      ],
      "metadata": {
        "id": "H_Xi7KnH2ApJ"
      },
      "execution_count": null,
      "outputs": []
    },
    {
      "cell_type": "code",
      "source": [],
      "metadata": {
        "id": "RPzJ-zBZtNAX"
      },
      "execution_count": null,
      "outputs": []
    }
  ]
}